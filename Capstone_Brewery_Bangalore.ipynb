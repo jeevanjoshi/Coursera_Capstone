{
 "cells": [
  {
   "cell_type": "markdown",
   "metadata": {},
   "source": [
    "# To find optimal location to open a brewery in Bangalore\n",
    "\n",
    "## 1. Introduction\n",
    "### 1.1. Background\n",
    "#### This is the capstone project of IBM Data Science Professional Certificate. In this project, I will use the Foursquare location data to explore neighborhoods in Bangalore, and to come up with a problem that I can use the Foursquare location data to solve.\n",
    "\n",
    "### 1.2. Problem\n",
    "#### I will explore the neighborhoods in Bangalore and answer the question: “What is optimal location to open a brewery in Bangalore”.\n",
    "\n",
    "### 1.3. Interest\n",
    "#### Bangalore’s affinity for beer led to it being christened as the “Pub City Of India”. In 2010, this evolved further, and the first microbrewery in Bangalore started serving craft beer. Being the beer loving lot that we are, we of course took quickly to craft beer, and now there are over 40 microbreweries in Bangalore. And we know how hard it is to pick that top one, and when people ask,  \"Which is the best one?\", most of us are stuck wondering. \n",
    "\n",
    "#### Opening a brewery here is an attractive idea for any one who want to extends its business. They would be very interested in this project.\n",
    "\n",
    "## 2. Data\n",
    "### 2.1. Data Sources\n",
    "#### My main two data sources are:\n",
    "\n",
    "#### 1. Postcode with latitude and longitude from https://data.gov.in/resources/all-india-pincode-directory-contact-details-along-latitude-and-longitude\n",
    "#### 2. Venues data from Foursquare API."
   ]
  },
  {
   "cell_type": "code",
   "execution_count": null,
   "metadata": {},
   "outputs": [],
   "source": []
  }
 ],
 "metadata": {
  "kernelspec": {
   "display_name": "Python 3",
   "language": "python",
   "name": "python3"
  },
  "language_info": {
   "codemirror_mode": {
    "name": "ipython",
    "version": 3
   },
   "file_extension": ".py",
   "mimetype": "text/x-python",
   "name": "python",
   "nbconvert_exporter": "python",
   "pygments_lexer": "ipython3",
   "version": "3.7.3"
  }
 },
 "nbformat": 4,
 "nbformat_minor": 2
}
